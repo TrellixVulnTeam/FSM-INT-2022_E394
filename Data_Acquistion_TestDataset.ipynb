{
  "nbformat": 4,
  "nbformat_minor": 0,
  "metadata": {
    "colab": {
      "name": "Data Acquistion- TestDataset.ipynb",
      "provenance": [],
      "collapsed_sections": []
    },
    "kernelspec": {
      "name": "python3",
      "display_name": "Python 3"
    },
    "language_info": {
      "name": "python"
    }
  },
  "cells": [
    {
      "cell_type": "code",
      "execution_count": null,
      "metadata": {
        "colab": {
          "base_uri": "https://localhost:8080/"
        },
        "id": "z2JsNsIvn6fo",
        "outputId": "98d02f62-3871-4db9-a771-4d2dba17ff71"
      },
      "outputs": [
        {
          "output_type": "stream",
          "name": "stdout",
          "text": [
            "Mounted at /content/drive\n"
          ]
        }
      ],
      "source": [
        "from google.colab import drive\n",
        "drive.mount('/content/drive')"
      ]
    },
    {
      "cell_type": "code",
      "source": [
        "import os\n",
        "import time\n",
        "import re\n",
        "import glob\n",
        "import numpy as np\n",
        "import pandas as pd\n",
        "import pickle as pkl"
      ],
      "metadata": {
        "id": "xBTDPmCBp9Q6"
      },
      "execution_count": null,
      "outputs": []
    },
    {
      "cell_type": "code",
      "source": [
        "main_dir = \"/content/drive/MyDrive/Dataset/Test_set\"\n",
        "bearing = ['Bearing1_3']\n",
        "\n",
        "DATA_POINTS_PER_FILE = 2560\n",
        "\n",
        "header_col = ['hour',\t'minute',\t'second',\t'microsecond',\t'horiz accel',\t'vert accel']"
      ],
      "metadata": {
        "id": "PhsBvvKYqc8B"
      },
      "execution_count": null,
      "outputs": []
    },
    {
      "cell_type": "code",
      "source": [
        "for root,dir,lis in os.walk(main_dir, topdown=True):\n",
        "  print(root,\" \",dir,\" \",lis)\n",
        "  print(\"total file \",len(lis))\n",
        "  files_acc = len(glob.glob(os.path.join(root,'acc_*.csv')))\n",
        "  files_temp = len(glob.glob(os.path.join(root,'temp_*.csv')))\n",
        "  print(\"acc files : \", files_acc, \" | temp files : \", files_temp,\"\\n\")\n"
      ],
      "metadata": {
        "colab": {
          "base_uri": "https://localhost:8080/"
        },
        "id": "K9Y6DMOZqxKp",
        "outputId": "358d8bae-9dc2-4b81-8f1f-4c4faae6647b"
      },
      "execution_count": null,
      "outputs": [
        {
          "output_type": "stream",
          "name": "stdout",
          "text": [
            "/content/drive/MyDrive/Dataset/Test_set   ['Bearing1_3']   []\n",
            "total file  0\n",
            "acc files :  0  | temp files :  0 \n",
            "\n",
            "/content/drive/MyDrive/Dataset/Test_set/Bearing1_3   []   ['acc_00834.csv', 'acc_00807.csv', 'acc_00812.csv', 'acc_00839.csv', 'acc_00811.csv', 'acc_00837.csv', 'acc_00799.csv', 'acc_00802.csv', 'acc_00828.csv', 'acc_00813.csv', 'acc_00819.csv', 'acc_00835.csv', 'acc_00795.csv', 'acc_00792.csv', 'acc_00833.csv', 'acc_00816.csv', 'acc_00832.csv', 'acc_00829.csv', 'acc_00818.csv', 'acc_00836.csv', 'acc_00803.csv', 'acc_00796.csv', 'acc_00824.csv', 'acc_00806.csv', 'acc_00798.csv', 'acc_00817.csv', 'acc_00830.csv', 'acc_00788.csv', 'acc_00809.csv', 'acc_00821.csv', 'acc_00791.csv', 'acc_00804.csv', 'acc_00801.csv', 'acc_00840.csv', 'acc_00786.csv', 'acc_00793.csv', 'acc_00789.csv', 'acc_00787.csv', 'acc_00859.csv', 'acc_00895.csv', 'acc_00886.csv', 'acc_00867.csv', 'acc_00862.csv', 'acc_00883.csv', 'acc_00878.csv', 'acc_00863.csv', 'acc_00880.csv', 'acc_00846.csv', 'acc_00892.csv', 'acc_00877.csv', 'acc_00885.csv', 'acc_00888.csv', 'acc_00842.csv', 'acc_00891.csv', 'acc_00893.csv', 'acc_00881.csv', 'acc_00875.csv', 'acc_00847.csv', 'acc_00874.csv', 'acc_00854.csv', 'acc_00882.csv', 'acc_00894.csv', 'acc_00855.csv', 'acc_00853.csv', 'acc_00868.csv', 'acc_00845.csv', 'acc_00890.csv', 'acc_00851.csv', 'acc_00884.csv', 'acc_00864.csv', 'acc_00857.csv', 'acc_00856.csv', 'acc_00860.csv', 'acc_00861.csv', 'acc_00843.csv', 'acc_00844.csv', 'acc_00841.csv', 'acc_00887.csv', 'acc_00865.csv', 'acc_00849.csv', 'acc_00869.csv', 'acc_00873.csv', 'acc_00848.csv', 'acc_00852.csv', 'acc_00850.csv', 'acc_00872.csv', 'acc_00871.csv', 'acc_00889.csv', 'acc_00866.csv', 'acc_00876.csv', 'acc_00858.csv', 'acc_00870.csv', 'acc_00879.csv', 'acc_00937.csv', 'acc_00901.csv', 'acc_00909.csv', 'acc_00928.csv', 'acc_00912.csv', 'acc_00913.csv', 'acc_00948.csv', 'acc_00900.csv', 'acc_00902.csv', 'acc_00930.csv', 'acc_00926.csv', 'acc_00946.csv', 'acc_00914.csv', 'acc_00920.csv', 'acc_00921.csv', 'acc_00936.csv', 'acc_00933.csv', 'acc_00896.csv', 'acc_00908.csv', 'acc_00927.csv', 'acc_00929.csv', 'acc_00922.csv', 'acc_00904.csv', 'acc_00910.csv', 'acc_00935.csv', 'acc_00942.csv', 'acc_00917.csv', 'acc_00903.csv', 'acc_00899.csv', 'acc_00897.csv', 'acc_00916.csv', 'acc_00932.csv', 'acc_00940.csv', 'acc_00934.csv', 'acc_00925.csv', 'acc_00945.csv', 'acc_00924.csv', 'acc_00952.csv', 'acc_00915.csv', 'acc_00906.csv', 'acc_00938.csv', 'acc_00939.csv', 'acc_00931.csv', 'acc_00943.csv', 'acc_00907.csv', 'acc_00918.csv', 'acc_00941.csv', 'acc_00949.csv', 'acc_00905.csv', 'acc_00947.csv', 'acc_00944.csv', 'acc_00919.csv', 'acc_00898.csv', 'acc_00950.csv', 'acc_00923.csv', 'acc_00951.csv', 'acc_00911.csv', 'acc_00993.csv', 'acc_00953.csv', 'acc_00964.csv', 'acc_00987.csv', 'acc_00959.csv', 'acc_00958.csv', 'acc_00983.csv', 'acc_01006.csv', 'acc_01002.csv', 'acc_01009.csv', 'acc_00986.csv', 'acc_01001.csv', 'acc_00984.csv', 'acc_00957.csv', 'acc_00970.csv', 'acc_00954.csv', 'acc_00976.csv', 'acc_00975.csv', 'acc_00980.csv', 'acc_00960.csv', 'acc_00962.csv', 'acc_00973.csv', 'acc_00967.csv', 'acc_00969.csv', 'acc_00977.csv', 'acc_01005.csv', 'acc_01008.csv', 'acc_00968.csv', 'acc_00991.csv', 'acc_00985.csv', 'acc_00979.csv', 'acc_00978.csv', 'acc_01007.csv', 'acc_01004.csv', 'acc_01003.csv', 'acc_00994.csv', 'acc_00989.csv', 'acc_00990.csv', 'acc_00972.csv', 'acc_00963.csv', 'acc_00971.csv', 'acc_00981.csv', 'acc_00955.csv', 'acc_00995.csv', 'acc_00998.csv', 'acc_01000.csv', 'acc_00982.csv', 'acc_00974.csv', 'acc_00956.csv', 'acc_00992.csv', 'acc_00988.csv', 'acc_00965.csv', 'acc_00966.csv', 'acc_00961.csv', 'acc_00997.csv', 'acc_00996.csv', 'acc_00999.csv', 'acc_01030.csv', 'acc_01058.csv', 'acc_01032.csv', 'acc_01048.csv', 'acc_01046.csv', 'acc_01060.csv', 'acc_01031.csv', 'acc_01033.csv', 'acc_01012.csv', 'acc_01036.csv', 'acc_01020.csv', 'acc_01051.csv', 'acc_01063.csv', 'acc_01015.csv', 'acc_01044.csv', 'acc_01047.csv', 'acc_01021.csv', 'acc_01049.csv', 'acc_01037.csv', 'acc_01017.csv', 'acc_01056.csv', 'acc_01041.csv', 'acc_01025.csv', 'acc_01013.csv', 'acc_01026.csv', 'acc_01034.csv', 'acc_01016.csv', 'acc_01028.csv', 'acc_01014.csv', 'acc_01023.csv', 'acc_01018.csv', 'acc_01052.csv', 'acc_01040.csv', 'acc_01045.csv', 'acc_01043.csv', 'acc_01053.csv', 'acc_01050.csv', 'acc_01038.csv', 'acc_01035.csv', 'acc_01062.csv', 'acc_01054.csv', 'acc_01011.csv', 'acc_01055.csv', 'acc_01029.csv', 'acc_01042.csv', 'acc_01019.csv', 'acc_01027.csv', 'acc_01061.csv', 'acc_01022.csv', 'acc_01059.csv', 'acc_01039.csv', 'acc_01024.csv', 'acc_01010.csv', 'acc_01057.csv', 'acc_01080.csv', 'acc_01075.csv', 'acc_01106.csv', 'acc_01098.csv', 'acc_01117.csv', 'acc_01111.csv', 'acc_01114.csv', 'acc_01077.csv', 'acc_01088.csv', 'acc_01095.csv', 'acc_01112.csv', 'acc_01105.csv', 'acc_01092.csv', 'acc_01083.csv', 'acc_01067.csv', 'acc_01094.csv', 'acc_01109.csv', 'acc_01081.csv', 'acc_01090.csv', 'acc_01096.csv', 'acc_01068.csv', 'acc_01086.csv', 'acc_01073.csv', 'acc_01093.csv', 'acc_01082.csv', 'acc_01085.csv', 'acc_01102.csv', 'acc_01107.csv', 'acc_01099.csv', 'acc_01074.csv', 'acc_01069.csv', 'acc_01066.csv', 'acc_01079.csv', 'acc_01101.csv', 'acc_01065.csv', 'acc_01108.csv', 'acc_01118.csv', 'acc_01076.csv', 'acc_01115.csv', 'acc_01091.csv', 'acc_01064.csv', 'acc_01103.csv', 'acc_01084.csv', 'acc_01072.csv', 'acc_01113.csv', 'acc_01097.csv', 'acc_01087.csv', 'acc_01070.csv', 'acc_01089.csv', 'acc_01116.csv', 'acc_01071.csv', 'acc_01100.csv', 'acc_01078.csv', 'acc_01110.csv', 'acc_01104.csv', 'acc_01159.csv', 'acc_01166.csv', 'acc_01119.csv', 'acc_01123.csv', 'acc_01170.csv', 'acc_01153.csv', 'acc_01148.csv', 'acc_01155.csv', 'acc_01165.csv', 'acc_01158.csv', 'acc_01134.csv', 'acc_01169.csv', 'acc_01137.csv', 'acc_01131.csv', 'acc_01171.csv', 'acc_01129.csv', 'acc_01167.csv', 'acc_01149.csv', 'acc_01173.csv', 'acc_01142.csv', 'acc_01147.csv', 'acc_01162.csv', 'acc_01146.csv', 'acc_01175.csv', 'acc_01157.csv', 'acc_01145.csv', 'acc_01140.csv', 'acc_01124.csv', 'acc_01127.csv', 'acc_01141.csv', 'acc_01154.csv', 'acc_01135.csv', 'acc_01121.csv', 'acc_01122.csv', 'acc_01168.csv', 'acc_01174.csv', 'acc_01163.csv', 'acc_01152.csv', 'acc_01126.csv', 'acc_01125.csv', 'acc_01156.csv', 'acc_01151.csv', 'acc_01143.csv', 'acc_01164.csv', 'acc_01133.csv', 'acc_01160.csv', 'acc_01130.csv', 'acc_01161.csv', 'acc_01150.csv', 'acc_01139.csv', 'acc_01172.csv', 'acc_01138.csv', 'acc_01128.csv', 'acc_01132.csv', 'acc_01136.csv', 'acc_01120.csv', 'acc_01144.csv', 'acc_01221.csv', 'acc_01182.csv', 'acc_01207.csv', 'acc_01231.csv', 'acc_01180.csv', 'acc_01220.csv', 'acc_01199.csv', 'acc_01213.csv', 'acc_01217.csv', 'acc_01185.csv', 'acc_01226.csv', 'acc_01218.csv', 'acc_01196.csv', 'acc_01227.csv', 'acc_01203.csv', 'acc_01225.csv', 'acc_01181.csv', 'acc_01224.csv', 'acc_01211.csv', 'acc_01232.csv', 'acc_01215.csv', 'acc_01229.csv', 'acc_01210.csv', 'acc_01192.csv', 'acc_01222.csv', 'acc_01189.csv', 'acc_01176.csv', 'acc_01204.csv', 'acc_01190.csv', 'acc_01179.csv', 'acc_01197.csv', 'acc_01183.csv', 'acc_01178.csv', 'acc_01230.csv', 'acc_01186.csv', 'acc_01209.csv', 'acc_01212.csv', 'acc_01219.csv', 'acc_01188.csv', 'acc_01228.csv', 'acc_01208.csv', 'acc_01187.csv', 'acc_01223.csv', 'acc_01214.csv', 'acc_01195.csv', 'acc_01193.csv', 'acc_01202.csv', 'acc_01201.csv', 'acc_01198.csv', 'acc_01177.csv', 'acc_01206.csv', 'acc_01205.csv', 'acc_01200.csv', 'acc_01194.csv', 'acc_01216.csv', 'acc_01233.csv', 'acc_01184.csv', 'acc_01191.csv', 'acc_01245.csv', 'acc_01275.csv', 'acc_01261.csv', 'acc_01267.csv', 'acc_01272.csv', 'acc_01278.csv', 'acc_01240.csv', 'acc_01256.csv', 'acc_01273.csv', 'acc_01258.csv', 'acc_01266.csv', 'acc_01254.csv', 'acc_01251.csv', 'acc_01246.csv', 'acc_01284.csv', 'acc_01241.csv', 'acc_01247.csv', 'acc_01283.csv', 'acc_01242.csv', 'acc_01289.csv', 'acc_01277.csv', 'acc_01265.csv', 'acc_01276.csv', 'acc_01238.csv', 'acc_01287.csv', 'acc_01260.csv', 'acc_01286.csv', 'acc_01282.csv', 'acc_01244.csv', 'acc_01262.csv', 'acc_01271.csv', 'acc_01280.csv', 'acc_01237.csv', 'acc_01253.csv', 'acc_01235.csv', 'acc_01250.csv', 'acc_01269.csv', 'acc_01274.csv', 'acc_01243.csv', 'acc_01279.csv', 'acc_01236.csv', 'acc_01234.csv', 'acc_01281.csv', 'acc_01252.csv', 'acc_01264.csv', 'acc_01248.csv', 'acc_01259.csv', 'acc_01257.csv', 'acc_01270.csv', 'acc_01255.csv', 'acc_01249.csv', 'acc_01268.csv', 'acc_01285.csv', 'acc_01239.csv', 'acc_01288.csv', 'acc_01263.csv', 'acc_01330.csv', 'acc_01334.csv', 'acc_01318.csv', 'acc_01293.csv', 'acc_01317.csv', 'acc_01312.csv', 'acc_01325.csv', 'acc_01313.csv', 'acc_01300.csv', 'acc_01297.csv', 'acc_01307.csv', 'acc_01322.csv', 'acc_01339.csv', 'acc_01340.csv', 'acc_01314.csv', 'acc_01304.csv', 'acc_01327.csv', 'acc_01295.csv', 'acc_01320.csv', 'acc_01301.csv', 'acc_01337.csv', 'acc_01324.csv', 'acc_01311.csv', 'acc_01306.csv', 'acc_01315.csv', 'acc_01332.csv', 'acc_01319.csv', 'acc_01331.csv', 'acc_01328.csv', 'acc_01294.csv', 'acc_01316.csv', 'acc_01335.csv', 'acc_01308.csv', 'acc_01338.csv', 'acc_01329.csv', 'acc_01333.csv', 'acc_01321.csv', 'acc_01291.csv', 'acc_01336.csv', 'acc_01326.csv', 'acc_01298.csv', 'acc_01292.csv', 'acc_01341.csv', 'acc_01302.csv', 'acc_01290.csv', 'acc_01310.csv', 'acc_01303.csv', 'acc_01305.csv', 'acc_01309.csv', 'acc_01296.csv', 'acc_01323.csv', 'acc_01299.csv', 'acc_01354.csv', 'acc_01359.csv', 'acc_01367.csv', 'acc_01361.csv', 'acc_01383.csv', 'acc_01345.csv', 'acc_01352.csv', 'acc_01350.csv', 'acc_01384.csv', 'acc_01371.csv', 'acc_01360.csv', 'acc_01346.csv', 'acc_01342.csv', 'acc_01363.csv', 'acc_01386.csv', 'acc_01369.csv', 'acc_01381.csv', 'acc_01390.csv', 'acc_01376.csv', 'acc_01348.csv', 'acc_01377.csv', 'acc_01380.csv', 'acc_01357.csv', 'acc_01365.csv', 'acc_01389.csv', 'acc_01351.csv', 'acc_01356.csv', 'acc_01382.csv', 'acc_01393.csv', 'acc_01364.csv', 'acc_01366.csv', 'acc_01379.csv', 'acc_01387.csv', 'acc_01343.csv', 'acc_01388.csv', 'acc_01373.csv', 'acc_01392.csv', 'acc_01349.csv', 'acc_01368.csv', 'acc_01370.csv', 'acc_01372.csv', 'acc_01378.csv', 'acc_01362.csv', 'acc_01347.csv', 'acc_01374.csv', 'acc_01344.csv', 'acc_01355.csv', 'acc_01353.csv', 'acc_01375.csv', 'acc_01358.csv', 'acc_01385.csv', 'acc_01391.csv', 'acc_01429.csv', 'acc_01399.csv', 'acc_01447.csv', 'acc_01407.csv', 'acc_01425.csv', 'acc_01439.csv', 'acc_01431.csv', 'acc_01430.csv', 'acc_01443.csv', 'acc_01411.csv', 'acc_01413.csv', 'acc_01414.csv', 'acc_01397.csv', 'acc_01401.csv', 'acc_01435.csv', 'acc_01426.csv', 'acc_01436.csv', 'acc_01416.csv', 'acc_01433.csv', 'acc_01432.csv', 'acc_01415.csv', 'acc_01412.csv', 'acc_01438.csv', 'acc_01398.csv', 'acc_01434.csv', 'acc_01418.csv', 'acc_01404.csv', 'acc_01408.csv', 'acc_01410.csv', 'acc_01419.csv', 'acc_01442.csv', 'acc_01400.csv', 'acc_01440.csv', 'acc_01406.csv', 'acc_01421.csv', 'acc_01437.csv', 'acc_01394.csv', 'acc_01405.csv', 'acc_01427.csv', 'acc_01424.csv', 'acc_01396.csv', 'acc_01448.csv', 'acc_01446.csv', 'acc_01428.csv', 'acc_01420.csv', 'acc_01441.csv', 'acc_01402.csv', 'acc_01444.csv', 'acc_01403.csv', 'acc_01409.csv', 'acc_01417.csv', 'acc_01395.csv', 'acc_01422.csv', 'acc_01423.csv', 'acc_01449.csv', 'acc_01445.csv', 'acc_01480.csv', 'acc_01481.csv', 'acc_01492.csv', 'acc_01495.csv', 'acc_01469.csv', 'acc_01475.csv', 'acc_01478.csv', 'acc_01459.csv', 'acc_01498.csv', 'acc_01451.csv', 'acc_01483.csv', 'acc_01461.csv', 'acc_01484.csv', 'acc_01493.csv', 'acc_01494.csv', 'acc_01470.csv', 'acc_01462.csv', 'acc_01450.csv', 'acc_01489.csv', 'acc_01485.csv', 'acc_01497.csv', 'acc_01487.csv', 'acc_01465.csv', 'acc_01467.csv', 'acc_01474.csv', 'acc_01486.csv', 'acc_01477.csv', 'acc_01455.csv', 'acc_01502.csv', 'acc_01491.csv', 'acc_01476.csv', 'acc_01453.csv', 'acc_01458.csv', 'acc_01456.csv', 'acc_01496.csv', 'acc_01454.csv', 'acc_01452.csv', 'acc_01463.csv', 'acc_01490.csv', 'acc_01473.csv', 'acc_01464.csv', 'acc_01471.csv', 'acc_01499.csv', 'acc_01479.csv', 'acc_01457.csv', 'acc_01500.csv', 'acc_01460.csv', 'acc_01488.csv', 'acc_01503.csv', 'acc_01482.csv', 'acc_01468.csv', 'acc_01466.csv', 'acc_01472.csv', 'acc_01501.csv', 'acc_01550.csv', 'acc_01530.csv', 'acc_01513.csv', 'acc_01525.csv', 'acc_01543.csv', 'acc_01512.csv', 'acc_01515.csv', 'acc_01537.csv', 'acc_01519.csv', 'acc_01523.csv', 'acc_01542.csv', 'acc_01551.csv', 'acc_01554.csv', 'acc_01528.csv', 'acc_01506.csv', 'acc_01510.csv', 'acc_01539.csv', 'acc_01549.csv', 'acc_01504.csv', 'acc_01536.csv', 'acc_01555.csv', 'acc_01546.csv', 'acc_01544.csv', 'acc_01538.csv', 'acc_01527.csv', 'acc_01516.csv', 'acc_01535.csv', 'acc_01545.csv', 'acc_01522.csv', 'acc_01508.csv', 'acc_01541.csv', 'acc_01521.csv', 'acc_01548.csv', 'acc_01520.csv', 'acc_01524.csv', 'acc_01531.csv', 'acc_01553.csv', 'acc_01547.csv', 'acc_01511.csv', 'acc_01529.csv', 'acc_01509.csv', 'acc_01532.csv', 'acc_01517.csv', 'acc_01534.csv', 'acc_01507.csv', 'acc_01552.csv', 'acc_01518.csv', 'acc_01514.csv', 'acc_01533.csv', 'acc_01505.csv', 'acc_01540.csv', 'acc_01526.csv', 'acc_01581.csv', 'acc_01584.csv', 'acc_01557.csv', 'acc_01575.csv', 'acc_01567.csv', 'acc_01589.csv', 'acc_01595.csv', 'acc_01588.csv', 'acc_01601.csv', 'acc_01571.csv', 'acc_01556.csv', 'acc_01580.csv', 'acc_01583.csv', 'acc_01558.csv', 'acc_01604.csv', 'acc_01569.csv', 'acc_01559.csv', 'acc_01561.csv', 'acc_01603.csv', 'acc_01577.csv', 'acc_01591.csv', 'acc_01598.csv', 'acc_01574.csv', 'acc_01579.csv', 'acc_01562.csv', 'acc_01594.csv', 'acc_01602.csv', 'acc_01560.csv', 'acc_01570.csv', 'acc_01587.csv', 'acc_01563.csv', 'acc_01576.csv', 'acc_01586.csv', 'acc_01572.csv', 'acc_01599.csv', 'acc_01564.csv', 'acc_01600.csv', 'acc_01590.csv', 'acc_01578.csv', 'acc_01566.csv', 'acc_01593.csv', 'acc_01582.csv', 'acc_01592.csv', 'acc_01597.csv', 'acc_01573.csv', 'acc_01596.csv', 'acc_01568.csv', 'acc_01585.csv', 'acc_01565.csv', 'acc_01614.csv', 'acc_01643.csv', 'acc_01623.csv', 'acc_01611.csv', 'acc_01622.csv', 'acc_01651.csv', 'acc_01606.csv', 'acc_01641.csv', 'acc_01655.csv', 'acc_01633.csv', 'acc_01617.csv', 'acc_01629.csv', 'acc_01644.csv', 'acc_01650.csv', 'acc_01652.csv', 'acc_01640.csv', 'acc_01609.csv', 'acc_01649.csv', 'acc_01626.csv', 'acc_01620.csv', 'acc_01646.csv', 'acc_01607.csv', 'acc_01630.csv', 'acc_01642.csv', 'acc_01624.csv', 'acc_01627.csv', 'acc_01634.csv', 'acc_01657.csv', 'acc_01619.csv', 'acc_01631.csv', 'acc_01636.csv', 'acc_01639.csv', 'acc_01658.csv', 'acc_01645.csv', 'acc_01635.csv', 'acc_01638.csv', 'acc_01612.csv', 'acc_01610.csv', 'acc_01613.csv', 'acc_01656.csv', 'acc_01647.csv', 'acc_01618.csv', 'acc_01616.csv', 'acc_01659.csv', 'acc_01632.csv', 'acc_01608.csv', 'acc_01628.csv', 'acc_01653.csv', 'acc_01654.csv', 'acc_01615.csv', 'acc_01648.csv', 'acc_01637.csv', 'acc_01605.csv', 'acc_01621.csv', 'acc_01625.csv', 'acc_01694.csv', 'acc_01677.csv', 'acc_01675.csv', 'acc_01693.csv', 'acc_01673.csv', 'acc_01695.csv', 'acc_01681.csv', 'acc_01710.csv', 'acc_01686.csv', 'acc_01708.csv', 'acc_01706.csv', 'acc_01685.csv', 'acc_01703.csv', 'acc_01660.csv', 'acc_01672.csv', 'acc_01707.csv', 'acc_01683.csv', 'acc_01661.csv', 'acc_01699.csv', 'acc_01713.csv', 'acc_01662.csv', 'acc_01712.csv', 'acc_01696.csv', 'acc_01676.csv', 'acc_01688.csv', 'acc_01663.csv', 'acc_01678.csv', 'acc_01697.csv', 'acc_01702.csv', 'acc_01682.csv', 'acc_01691.csv', 'acc_01671.csv', 'acc_01701.csv', 'acc_01709.csv', 'acc_01687.csv', 'acc_01664.csv', 'acc_01669.csv', 'acc_01665.csv', 'acc_01689.csv', 'acc_01674.csv', 'acc_01666.csv', 'acc_01670.csv', 'acc_01668.csv', 'acc_01692.csv', 'acc_01667.csv', 'acc_01700.csv', 'acc_01698.csv', 'acc_01704.csv', 'acc_01679.csv', 'acc_01690.csv', 'acc_01684.csv', 'acc_01680.csv', 'acc_01705.csv', 'acc_01711.csv', 'acc_01755.csv', 'acc_01728.csv', 'acc_01756.csv', 'acc_01722.csv', 'acc_01740.csv', 'acc_01767.csv', 'acc_01719.csv', 'acc_01769.csv', 'acc_01742.csv', 'acc_01717.csv', 'acc_01770.csv', 'acc_01763.csv', 'acc_01757.csv', 'acc_01727.csv', 'acc_01766.csv', 'acc_01747.csv', 'acc_01714.csv', 'acc_01753.csv', 'acc_01749.csv', 'acc_01762.csv', 'acc_01752.csv', 'acc_01759.csv', 'acc_01764.csv', 'acc_01716.csv', 'acc_01732.csv', 'acc_01725.csv', 'acc_01720.csv', 'acc_01745.csv', 'acc_01723.csv', 'acc_01741.csv', 'acc_01736.csv', 'acc_01737.csv', 'acc_01746.csv', 'acc_01739.csv', 'acc_01718.csv', 'acc_01758.csv', 'acc_01744.csv', 'acc_01760.csv', 'acc_01715.csv', 'acc_01738.csv', 'acc_01731.csv', 'acc_01730.csv', 'acc_01750.csv', 'acc_01748.csv', 'acc_01726.csv', 'acc_01735.csv', 'acc_01761.csv', 'acc_01724.csv', 'acc_01721.csv', 'acc_01743.csv', 'acc_01754.csv', 'acc_01734.csv', 'acc_01729.csv', 'acc_01768.csv', 'acc_01751.csv', 'acc_01765.csv', 'acc_01733.csv', 'acc_01781.csv', 'acc_01789.csv', 'acc_01794.csv', 'acc_01788.csv', 'acc_01771.csv', 'acc_01774.csv', 'acc_01778.csv', 'acc_01775.csv', 'acc_01773.csv', 'acc_01797.csv', 'acc_01776.csv', 'acc_01779.csv', 'acc_01796.csv', 'acc_01798.csv', 'acc_01777.csv', 'acc_01786.csv', 'acc_01782.csv', 'acc_01802.csv', 'acc_01800.csv', 'acc_01772.csv', 'acc_01795.csv', 'acc_01783.csv', 'acc_01801.csv', 'acc_01793.csv', 'acc_01790.csv', 'acc_01787.csv', 'acc_01792.csv', 'acc_01785.csv', 'acc_01784.csv', 'acc_01791.csv', 'acc_01780.csv', 'acc_01799.csv', 'acc_00006.csv', 'acc_00001.csv', 'acc_00004.csv', 'acc_00003.csv', 'acc_00005.csv', 'acc_00002.csv', 'acc_00020.csv', 'acc_00007.csv', 'acc_00008.csv', 'acc_00014.csv', 'acc_00060.csv', 'acc_00022.csv', 'acc_00013.csv', 'acc_00046.csv', 'acc_00039.csv', 'acc_00057.csv', 'acc_00049.csv', 'acc_00044.csv', 'acc_00052.csv', 'acc_00023.csv', 'acc_00059.csv', 'acc_00017.csv', 'acc_00027.csv', 'acc_00041.csv', 'acc_00009.csv', 'acc_00058.csv', 'acc_00042.csv', 'acc_00036.csv', 'acc_00038.csv', 'acc_00015.csv', 'acc_00054.csv', 'acc_00045.csv', 'acc_00037.csv', 'acc_00043.csv', 'acc_00025.csv', 'acc_00056.csv', 'acc_00030.csv', 'acc_00032.csv', 'acc_00024.csv', 'acc_00033.csv', 'acc_00026.csv', 'acc_00035.csv', 'acc_00048.csv', 'acc_00061.csv', 'acc_00029.csv', 'acc_00019.csv', 'acc_00050.csv', 'acc_00047.csv', 'acc_00031.csv', 'acc_00011.csv', 'acc_00028.csv', 'acc_00010.csv', 'acc_00021.csv', 'acc_00051.csv', 'acc_00016.csv', 'acc_00055.csv', 'acc_00053.csv', 'acc_00034.csv', 'acc_00018.csv', 'acc_00040.csv', 'acc_00012.csv', 'acc_00107.csv', 'acc_00084.csv', 'acc_00085.csv', 'acc_00087.csv', 'acc_00071.csv', 'acc_00106.csv', 'acc_00062.csv', 'acc_00093.csv', 'acc_00109.csv', 'acc_00089.csv', 'acc_00115.csv', 'acc_00066.csv', 'acc_00080.csv', 'acc_00110.csv', 'acc_00073.csv', 'acc_00075.csv', 'acc_00079.csv', 'acc_00101.csv', 'acc_00081.csv', 'acc_00119.csv', 'acc_00108.csv', 'acc_00077.csv', 'acc_00082.csv', 'acc_00111.csv', 'acc_00099.csv', 'acc_00088.csv', 'acc_00076.csv', 'acc_00114.csv', 'acc_00097.csv', 'acc_00105.csv', 'acc_00069.csv', 'acc_00067.csv', 'acc_00083.csv', 'acc_00120.csv', 'acc_00063.csv', 'acc_00068.csv', 'acc_00091.csv', 'acc_00100.csv', 'acc_00112.csv', 'acc_00072.csv', 'acc_00074.csv', 'acc_00078.csv', 'acc_00096.csv', 'acc_00118.csv', 'acc_00103.csv', 'acc_00070.csv', 'acc_00117.csv', 'acc_00090.csv', 'acc_00098.csv', 'acc_00064.csv', 'acc_00094.csv', 'acc_00095.csv', 'acc_00086.csv', 'acc_00102.csv', 'acc_00092.csv', 'acc_00104.csv', 'acc_00065.csv', 'acc_00113.csv', 'acc_00116.csv', 'acc_00169.csv', 'acc_00157.csv', 'acc_00150.csv', 'acc_00172.csv', 'acc_00154.csv', 'acc_00139.csv', 'acc_00161.csv', 'acc_00143.csv', 'acc_00176.csv', 'acc_00171.csv', 'acc_00124.csv', 'acc_00156.csv', 'acc_00130.csv', 'acc_00153.csv', 'acc_00173.csv', 'acc_00164.csv', 'acc_00144.csv', 'acc_00131.csv', 'acc_00138.csv', 'acc_00140.csv', 'acc_00146.csv', 'acc_00152.csv', 'acc_00129.csv', 'acc_00178.csv', 'acc_00128.csv', 'acc_00123.csv', 'acc_00147.csv', 'acc_00149.csv', 'acc_00127.csv', 'acc_00148.csv', 'acc_00163.csv', 'acc_00175.csv', 'acc_00151.csv', 'acc_00162.csv', 'acc_00174.csv', 'acc_00133.csv', 'acc_00125.csv', 'acc_00136.csv', 'acc_00122.csv', 'acc_00160.csv', 'acc_00170.csv', 'acc_00165.csv', 'acc_00132.csv', 'acc_00121.csv', 'acc_00134.csv', 'acc_00145.csv', 'acc_00155.csv', 'acc_00167.csv', 'acc_00137.csv', 'acc_00177.csv', 'acc_00142.csv', 'acc_00159.csv', 'acc_00135.csv', 'acc_00126.csv', 'acc_00168.csv', 'acc_00141.csv', 'acc_00158.csv', 'acc_00166.csv', 'acc_00181.csv', 'acc_00200.csv', 'acc_00219.csv', 'acc_00184.csv', 'acc_00192.csv', 'acc_00221.csv', 'acc_00222.csv', 'acc_00190.csv', 'acc_00206.csv', 'acc_00187.csv', 'acc_00225.csv', 'acc_00194.csv', 'acc_00215.csv', 'acc_00193.csv', 'acc_00203.csv', 'acc_00198.csv', 'acc_00230.csv', 'acc_00226.csv', 'acc_00201.csv', 'acc_00214.csv', 'acc_00231.csv', 'acc_00199.csv', 'acc_00212.csv', 'acc_00218.csv', 'acc_00195.csv', 'acc_00202.csv', 'acc_00189.csv', 'acc_00179.csv', 'acc_00196.csv', 'acc_00185.csv', 'acc_00228.csv', 'acc_00220.csv', 'acc_00180.csv', 'acc_00182.csv', 'acc_00207.csv', 'acc_00209.csv', 'acc_00210.csv', 'acc_00211.csv', 'acc_00186.csv', 'acc_00204.csv', 'acc_00227.csv', 'acc_00216.csv', 'acc_00183.csv', 'acc_00213.csv', 'acc_00229.csv', 'acc_00205.csv', 'acc_00224.csv', 'acc_00188.csv', 'acc_00197.csv', 'acc_00191.csv', 'acc_00223.csv', 'acc_00217.csv', 'acc_00208.csv', 'acc_00268.csv', 'acc_00239.csv', 'acc_00256.csv', 'acc_00281.csv', 'acc_00245.csv', 'acc_00236.csv', 'acc_00259.csv', 'acc_00248.csv', 'acc_00252.csv', 'acc_00279.csv', 'acc_00274.csv', 'acc_00267.csv', 'acc_00270.csv', 'acc_00282.csv', 'acc_00246.csv', 'acc_00253.csv', 'acc_00271.csv', 'acc_00273.csv', 'acc_00277.csv', 'acc_00243.csv', 'acc_00250.csv', 'acc_00283.csv', 'acc_00235.csv', 'acc_00261.csv', 'acc_00244.csv', 'acc_00275.csv', 'acc_00238.csv', 'acc_00269.csv', 'acc_00264.csv', 'acc_00234.csv', 'acc_00272.csv', 'acc_00242.csv', 'acc_00240.csv', 'acc_00257.csv', 'acc_00276.csv', 'acc_00247.csv', 'acc_00263.csv', 'acc_00265.csv', 'acc_00258.csv', 'acc_00280.csv', 'acc_00266.csv', 'acc_00262.csv', 'acc_00232.csv', 'acc_00237.csv', 'acc_00249.csv', 'acc_00285.csv', 'acc_00254.csv', 'acc_00241.csv', 'acc_00251.csv', 'acc_00260.csv', 'acc_00233.csv', 'acc_00278.csv', 'acc_00255.csv', 'acc_00284.csv', 'acc_00335.csv', 'acc_00297.csv', 'acc_00321.csv', 'acc_00322.csv', 'acc_00300.csv', 'acc_00308.csv', 'acc_00336.csv', 'acc_00314.csv', 'acc_00311.csv', 'acc_00306.csv', 'acc_00298.csv', 'acc_00310.csv', 'acc_00290.csv', 'acc_00325.csv', 'acc_00296.csv', 'acc_00309.csv', 'acc_00313.csv', 'acc_00287.csv', 'acc_00318.csv', 'acc_00326.csv', 'acc_00320.csv', 'acc_00288.csv', 'acc_00339.csv', 'acc_00293.csv', 'acc_00327.csv', 'acc_00332.csv', 'acc_00286.csv', 'acc_00295.csv', 'acc_00323.csv', 'acc_00292.csv', 'acc_00329.csv', 'acc_00312.csv', 'acc_00319.csv', 'acc_00328.csv', 'acc_00334.csv', 'acc_00289.csv', 'acc_00340.csv', 'acc_00299.csv', 'acc_00333.csv', 'acc_00291.csv', 'acc_00307.csv', 'acc_00317.csv', 'acc_00324.csv', 'acc_00303.csv', 'acc_00305.csv', 'acc_00337.csv', 'acc_00342.csv', 'acc_00294.csv', 'acc_00341.csv', 'acc_00301.csv', 'acc_00331.csv', 'acc_00302.csv', 'acc_00315.csv', 'acc_00304.csv', 'acc_00330.csv', 'acc_00316.csv', 'acc_00338.csv', 'acc_00397.csv', 'acc_00354.csv', 'acc_00344.csv', 'acc_00398.csv', 'acc_00345.csv', 'acc_00368.csv', 'acc_00399.csv', 'acc_00382.csv', 'acc_00346.csv', 'acc_00388.csv', 'acc_00392.csv', 'acc_00347.csv', 'acc_00364.csv', 'acc_00393.csv', 'acc_00387.csv', 'acc_00348.csv', 'acc_00349.csv', 'acc_00353.csv', 'acc_00386.csv', 'acc_00366.csv', 'acc_00381.csv', 'acc_00389.csv', 'acc_00384.csv', 'acc_00361.csv', 'acc_00383.csv', 'acc_00358.csv', 'acc_00350.csv', 'acc_00375.csv', 'acc_00371.csv', 'acc_00390.csv', 'acc_00394.csv', 'acc_00379.csv', 'acc_00395.csv', 'acc_00370.csv', 'acc_00378.csv', 'acc_00343.csv', 'acc_00373.csv', 'acc_00352.csv', 'acc_00363.csv', 'acc_00360.csv', 'acc_00380.csv', 'acc_00372.csv', 'acc_00357.csv', 'acc_00355.csv', 'acc_00391.csv', 'acc_00385.csv', 'acc_00351.csv', 'acc_00356.csv', 'acc_00396.csv', 'acc_00369.csv', 'acc_00365.csv', 'acc_00374.csv', 'acc_00376.csv', 'acc_00367.csv', 'acc_00359.csv', 'acc_00377.csv', 'acc_00362.csv', 'acc_00441.csv', 'acc_00405.csv', 'acc_00435.csv', 'acc_00402.csv', 'acc_00440.csv', 'acc_00400.csv', 'acc_00410.csv', 'acc_00448.csv', 'acc_00426.csv', 'acc_00450.csv', 'acc_00453.csv', 'acc_00422.csv', 'acc_00419.csv', 'acc_00445.csv', 'acc_00443.csv', 'acc_00411.csv', 'acc_00446.csv', 'acc_00420.csv', 'acc_00452.csv', 'acc_00427.csv', 'acc_00451.csv', 'acc_00421.csv', 'acc_00404.csv', 'acc_00425.csv', 'acc_00454.csv', 'acc_00431.csv', 'acc_00433.csv', 'acc_00415.csv', 'acc_00407.csv', 'acc_00434.csv', 'acc_00428.csv', 'acc_00418.csv', 'acc_00408.csv', 'acc_00437.csv', 'acc_00403.csv', 'acc_00429.csv', 'acc_00412.csv', 'acc_00416.csv', 'acc_00417.csv', 'acc_00449.csv', 'acc_00406.csv', 'acc_00414.csv', 'acc_00413.csv', 'acc_00438.csv', 'acc_00432.csv', 'acc_00447.csv', 'acc_00423.csv', 'acc_00444.csv', 'acc_00436.csv', 'acc_00401.csv', 'acc_00442.csv', 'acc_00424.csv', 'acc_00409.csv', 'acc_00439.csv', 'acc_00430.csv', 'acc_00473.csv', 'acc_00487.csv', 'acc_00483.csv', 'acc_00462.csv', 'acc_00503.csv', 'acc_00459.csv', 'acc_00502.csv', 'acc_00495.csv', 'acc_00497.csv', 'acc_00467.csv', 'acc_00486.csv', 'acc_00493.csv', 'acc_00471.csv', 'acc_00488.csv', 'acc_00491.csv', 'acc_00498.csv', 'acc_00461.csv', 'acc_00482.csv', 'acc_00484.csv', 'acc_00479.csv', 'acc_00506.csv', 'acc_00485.csv', 'acc_00481.csv', 'acc_00504.csv', 'acc_00490.csv', 'acc_00480.csv', 'acc_00489.csv', 'acc_00468.csv', 'acc_00505.csv', 'acc_00457.csv', 'acc_00470.csv', 'acc_00464.csv', 'acc_00507.csv', 'acc_00476.csv', 'acc_00475.csv', 'acc_00500.csv', 'acc_00466.csv', 'acc_00494.csv', 'acc_00499.csv', 'acc_00501.csv', 'acc_00463.csv', 'acc_00456.csv', 'acc_00496.csv', 'acc_00478.csv', 'acc_00455.csv', 'acc_00472.csv', 'acc_00477.csv', 'acc_00492.csv', 'acc_00474.csv', 'acc_00458.csv', 'acc_00469.csv', 'acc_00460.csv', 'acc_00465.csv', 'acc_00524.csv', 'acc_00530.csv', 'acc_00525.csv', 'acc_00508.csv', 'acc_00514.csv', 'acc_00545.csv', 'acc_00520.csv', 'acc_00537.csv', 'acc_00533.csv', 'acc_00510.csv', 'acc_00549.csv', 'acc_00527.csv', 'acc_00548.csv', 'acc_00532.csv', 'acc_00519.csv', 'acc_00556.csv', 'acc_00552.csv', 'acc_00529.csv', 'acc_00546.csv', 'acc_00522.csv', 'acc_00511.csv', 'acc_00528.csv', 'acc_00540.csv', 'acc_00535.csv', 'acc_00562.csv', 'acc_00515.csv', 'acc_00539.csv', 'acc_00538.csv', 'acc_00561.csv', 'acc_00512.csv', 'acc_00558.csv', 'acc_00559.csv', 'acc_00509.csv', 'acc_00534.csv', 'acc_00513.csv', 'acc_00553.csv', 'acc_00516.csv', 'acc_00542.csv', 'acc_00543.csv', 'acc_00550.csv', 'acc_00554.csv', 'acc_00560.csv', 'acc_00531.csv', 'acc_00517.csv', 'acc_00563.csv', 'acc_00551.csv', 'acc_00526.csv', 'acc_00523.csv', 'acc_00547.csv', 'acc_00541.csv', 'acc_00521.csv', 'acc_00544.csv', 'acc_00555.csv', 'acc_00536.csv', 'acc_00557.csv', 'acc_00518.csv', 'acc_00569.csv', 'acc_00596.csv', 'acc_00575.csv', 'acc_00595.csv', 'acc_00620.csv', 'acc_00593.csv', 'acc_00615.csv', 'acc_00565.csv', 'acc_00591.csv', 'acc_00574.csv', 'acc_00584.csv', 'acc_00611.csv', 'acc_00578.csv', 'acc_00573.csv', 'acc_00612.csv', 'acc_00608.csv', 'acc_00590.csv', 'acc_00566.csv', 'acc_00588.csv', 'acc_00607.csv', 'acc_00582.csv', 'acc_00618.csv', 'acc_00592.csv', 'acc_00613.csv', 'acc_00589.csv', 'acc_00598.csv', 'acc_00567.csv', 'acc_00616.csv', 'acc_00577.csv', 'acc_00601.csv', 'acc_00605.csv', 'acc_00572.csv', 'acc_00585.csv', 'acc_00564.csv', 'acc_00570.csv', 'acc_00581.csv', 'acc_00571.csv', 'acc_00600.csv', 'acc_00609.csv', 'acc_00580.csv', 'acc_00614.csv', 'acc_00617.csv', 'acc_00587.csv', 'acc_00579.csv', 'acc_00586.csv', 'acc_00606.csv', 'acc_00594.csv', 'acc_00619.csv', 'acc_00597.csv', 'acc_00576.csv', 'acc_00602.csv', 'acc_00568.csv', 'acc_00599.csv', 'acc_00604.csv', 'acc_00603.csv', 'acc_00583.csv', 'acc_00610.csv', 'acc_00630.csv', 'acc_00676.csv', 'acc_00645.csv', 'acc_00662.csv', 'acc_00640.csv', 'acc_00635.csv', 'acc_00661.csv', 'acc_00634.csv', 'acc_00638.csv', 'acc_00668.csv', 'acc_00666.csv', 'acc_00663.csv', 'acc_00641.csv', 'acc_00622.csv', 'acc_00623.csv', 'acc_00672.csv', 'acc_00647.csv', 'acc_00621.csv', 'acc_00636.csv', 'acc_00628.csv', 'acc_00642.csv', 'acc_00667.csv', 'acc_00644.csv', 'acc_00669.csv', 'acc_00658.csv', 'acc_00659.csv', 'acc_00648.csv', 'acc_00655.csv', 'acc_00675.csv', 'acc_00673.csv', 'acc_00652.csv', 'acc_00633.csv', 'acc_00643.csv', 'acc_00657.csv', 'acc_00674.csv', 'acc_00631.csv', 'acc_00625.csv', 'acc_00639.csv', 'acc_00651.csv', 'acc_00627.csv', 'acc_00670.csv', 'acc_00654.csv', 'acc_00626.csv', 'acc_00632.csv', 'acc_00650.csv', 'acc_00653.csv', 'acc_00660.csv', 'acc_00649.csv', 'acc_00656.csv', 'acc_00629.csv', 'acc_00646.csv', 'acc_00665.csv', 'acc_00671.csv', 'acc_00637.csv', 'acc_00624.csv', 'acc_00664.csv', 'acc_00690.csv', 'acc_00732.csv', 'acc_00706.csv', 'acc_00719.csv', 'acc_00696.csv', 'acc_00689.csv', 'acc_00705.csv', 'acc_00730.csv', 'acc_00695.csv', 'acc_00717.csv', 'acc_00684.csv', 'acc_00694.csv', 'acc_00721.csv', 'acc_00726.csv', 'acc_00724.csv', 'acc_00713.csv', 'acc_00731.csv', 'acc_00681.csv', 'acc_00693.csv', 'acc_00723.csv', 'acc_00729.csv', 'acc_00702.csv', 'acc_00708.csv', 'acc_00720.csv', 'acc_00709.csv', 'acc_00707.csv', 'acc_00682.csv', 'acc_00698.csv', 'acc_00704.csv', 'acc_00680.csv', 'acc_00725.csv', 'acc_00715.csv', 'acc_00692.csv', 'acc_00701.csv', 'acc_00677.csv', 'acc_00699.csv', 'acc_00722.csv', 'acc_00714.csv', 'acc_00691.csv', 'acc_00718.csv', 'acc_00728.csv', 'acc_00685.csv', 'acc_00703.csv', 'acc_00716.csv', 'acc_00686.csv', 'acc_00688.csv', 'acc_00700.csv', 'acc_00687.csv', 'acc_00683.csv', 'acc_00712.csv', 'acc_00678.csv', 'acc_00727.csv', 'acc_00679.csv', 'acc_00697.csv', 'acc_00711.csv', 'acc_00710.csv', 'acc_00737.csv', 'acc_00749.csv', 'acc_00765.csv', 'acc_00748.csv', 'acc_00772.csv', 'acc_00769.csv', 'acc_00761.csv', 'acc_00736.csv', 'acc_00744.csv', 'acc_00745.csv', 'acc_00740.csv', 'acc_00783.csv', 'acc_00780.csv', 'acc_00778.csv', 'acc_00742.csv', 'acc_00738.csv', 'acc_00754.csv', 'acc_00734.csv', 'acc_00743.csv', 'acc_00779.csv', 'acc_00776.csv', 'acc_00782.csv', 'acc_00752.csv', 'acc_00785.csv', 'acc_00774.csv', 'acc_00771.csv', 'acc_00739.csv', 'acc_00758.csv', 'acc_00735.csv', 'acc_00773.csv', 'acc_00767.csv', 'acc_00733.csv', 'acc_00781.csv', 'acc_00741.csv', 'acc_00768.csv', 'acc_00777.csv', 'acc_00762.csv', 'acc_00775.csv', 'acc_00764.csv', 'acc_00751.csv', 'acc_00757.csv', 'acc_00763.csv', 'acc_00760.csv', 'acc_00756.csv', 'acc_00750.csv', 'acc_00770.csv', 'acc_00747.csv', 'acc_00784.csv', 'acc_00766.csv', 'acc_00755.csv', 'acc_00759.csv', 'acc_00746.csv', 'acc_00753.csv', 'acc_00794.csv', 'acc_00838.csv', 'acc_00831.csv', 'acc_00822.csv', 'acc_00810.csv', 'acc_00823.csv', 'acc_00790.csv', 'acc_00827.csv', 'acc_00826.csv', 'acc_00797.csv', 'acc_00825.csv', 'acc_00815.csv', 'acc_00805.csv', 'acc_00820.csv', 'acc_00800.csv', 'acc_00814.csv', 'acc_00808.csv']\n",
            "total file  1802\n",
            "acc files :  1802  | temp files :  0 \n",
            "\n"
          ]
        }
      ]
    },
    {
      "cell_type": "code",
      "source": [
        "def files_merge():\n",
        "\n",
        "  for root,dir,lis in os.walk(main_dir, topdown=True):\n",
        "\n",
        "    if len(lis) == 0:\n",
        "      continue\n",
        "    \n",
        "    bearing = re.findall('Bearing+[\\w.]+',root)[0]\n",
        "    \n",
        "    files = sorted(glob.glob(os.path.join(root,'acc_*.csv')))\n",
        "\n",
        "    merge_tocsv(bearing,files)\n",
        "    print(\"file merge successful\", bearing ,\" csv file created\")\n",
        "  \n",
        "    csv_topkz(bearing)\n",
        "    print(bearing, \".pkz file created\")\n",
        "\n",
        "def merge_tocsv(bearing_name, file_lis):\n",
        "  \n",
        "    dir = \"/content/drive/MyDrive/FEMO2012 CHALLENGE /Dataset/test/csv files\" \n",
        "    bearing_name = bearing_name + \".csv\"\n",
        "    csv_file = os.path.join(dir,bearing_name)\n",
        "\n",
        "    with open(csv_file, 'w') as wr:\n",
        "        for file in file_lis:\n",
        "            with open(file , 'r') as read:\n",
        "              for line in read:\n",
        "                wr.write(line)\n",
        "\n",
        "def csv_topkz(bearing):\n",
        "  \n",
        "  dir_csv = \"/content/drive/MyDrive/FEMO2012 CHALLENGE /Dataset/test/csv files\"\n",
        "  dir_pkz = \"/content/drive/MyDrive/FEMO2012 CHALLENGE /Dataset/test/pkz files\"\n",
        "\n",
        "  csv_file = os.path.join( dir_csv,bearing + \".csv\")\n",
        "  pkz_file = os.path.join( dir_pkz,bearing + \".pkz\")\n",
        "\n",
        "  with open(pkz_file, 'wb') as pkz:\n",
        "    df = pd.read_csv(csv_file, names= header_col)\n",
        "    pkl.dump(df, pkz)\n",
        "            \n",
        "\n"
      ],
      "metadata": {
        "id": "_UPCHKDXqziJ"
      },
      "execution_count": null,
      "outputs": []
    },
    {
      "cell_type": "code",
      "source": [
        "files_merge()"
      ],
      "metadata": {
        "colab": {
          "base_uri": "https://localhost:8080/"
        },
        "id": "grSD0hvCq3dW",
        "outputId": "4bd2fa40-e925-4a6a-8a09-1f0991fc4a01"
      },
      "execution_count": null,
      "outputs": [
        {
          "output_type": "stream",
          "name": "stdout",
          "text": [
            "file merge successful Bearing1_3  csv file created\n",
            "Bearing1_3 .pkz file created\n"
          ]
        }
      ]
    },
    {
      "cell_type": "code",
      "source": [
        "# checking if the pkz file is same as csv file \n",
        "csv_dir = '/content/drive/MyDrive/FEMO2012 CHALLENGE /Dataset/test/csv files'\n",
        "pkz_dir = '/content/drive/MyDrive/FEMO2012 CHALLENGE /Dataset/test/pkz files'\n",
        "for b in bearing:\n",
        "\n",
        "  d1 = pd.read_csv(os.path.join(csv_dir,b+'.csv'), names = header_col)\n",
        "\n",
        "  with open(os.path.join(pkz_dir,b+'.pkz'), 'rb') as file:\n",
        "    d2 = pkl.load(file)\n",
        "    print(d2.shape[0] ,\":\" ,b)\n",
        "  \n",
        "  print(d1.equals(d2),\"\\n\")"
      ],
      "metadata": {
        "colab": {
          "base_uri": "https://localhost:8080/"
        },
        "id": "7pjwVISQrAPn",
        "outputId": "baa413f5-49f6-4cbb-dc67-8f6415ddba3f"
      },
      "execution_count": null,
      "outputs": [
        {
          "output_type": "stream",
          "name": "stdout",
          "text": [
            "4613120 : Bearing1_3\n",
            "True \n",
            "\n"
          ]
        }
      ]
    },
    {
      "cell_type": "code",
      "source": [
        ""
      ],
      "metadata": {
        "id": "lugMJsA7sSoN"
      },
      "execution_count": null,
      "outputs": []
    }
  ]
}